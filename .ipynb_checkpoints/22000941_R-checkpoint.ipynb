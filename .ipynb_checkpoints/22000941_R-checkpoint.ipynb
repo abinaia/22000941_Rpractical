{
 "cells": [
  {
   "cell_type": "code",
   "execution_count": null,
   "id": "50a38164-e7a4-4dd1-b064-166ceffec622",
   "metadata": {},
   "outputs": [],
   "source": []
  }
 ],
 "metadata": {
  "kernelspec": {
   "display_name": "R",
   "language": "R",
   "name": "ir"
  },
  "language_info": {
   "codemirror_mode": "r",
   "file_extension": ".r",
   "mimetype": "text/x-r-source",
   "name": "R",
   "pygments_lexer": "r",
   "version": "4.4.2"
  }
 },
 "nbformat": 4,
 "nbformat_minor": 5
}
